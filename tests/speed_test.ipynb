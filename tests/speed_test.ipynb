{
 "cells": [
  {
   "cell_type": "code",
   "execution_count": 2,
   "metadata": {},
   "outputs": [
    {
     "ename": "FileNotFoundError",
     "evalue": "Could not find module 'c:\\Users\\Max\\Projects\\linalg\\tests\\linalg\\utils\\norm_src\\norm.dll' (or one of its dependencies). Try using the full path with constructor syntax.",
     "output_type": "error",
     "traceback": [
      "\u001b[1;31m---------------------------------------------------------------------------\u001b[0m",
      "\u001b[1;31mFileNotFoundError\u001b[0m                         Traceback (most recent call last)",
      "\u001b[1;32mc:\\Users\\Max\\Projects\\linalg\\tests\\speed_test.ipynb Ячейка 1\u001b[0m in \u001b[0;36m<cell line: 8>\u001b[1;34m()\u001b[0m\n\u001b[0;32m      <a href='vscode-notebook-cell:/c%3A/Users/Max/Projects/linalg/tests/speed_test.ipynb#W0sZmlsZQ%3D%3D?line=5'>6</a>\u001b[0m \u001b[39mfrom\u001b[39;00m \u001b[39mlinalg\u001b[39;00m\u001b[39m.\u001b[39;00m\u001b[39melim\u001b[39;00m \u001b[39mimport\u001b[39;00m determinant\n\u001b[0;32m      <a href='vscode-notebook-cell:/c%3A/Users/Max/Projects/linalg/tests/speed_test.ipynb#W0sZmlsZQ%3D%3D?line=6'>7</a>\u001b[0m \u001b[39mfrom\u001b[39;00m \u001b[39mlinalg\u001b[39;00m\u001b[39m.\u001b[39;00m\u001b[39melim\u001b[39;00m \u001b[39mimport\u001b[39;00m inverse\n\u001b[1;32m----> <a href='vscode-notebook-cell:/c%3A/Users/Max/Projects/linalg/tests/speed_test.ipynb#W0sZmlsZQ%3D%3D?line=7'>8</a>\u001b[0m \u001b[39mfrom\u001b[39;00m \u001b[39mlinalg\u001b[39;00m \u001b[39mimport\u001b[39;00m solve\n\u001b[0;32m      <a href='vscode-notebook-cell:/c%3A/Users/Max/Projects/linalg/tests/speed_test.ipynb#W0sZmlsZQ%3D%3D?line=8'>9</a>\u001b[0m \u001b[39mfrom\u001b[39;00m \u001b[39mlinalg\u001b[39;00m \u001b[39mimport\u001b[39;00m det\n\u001b[0;32m     <a href='vscode-notebook-cell:/c%3A/Users/Max/Projects/linalg/tests/speed_test.ipynb#W0sZmlsZQ%3D%3D?line=9'>10</a>\u001b[0m \u001b[39mfrom\u001b[39;00m \u001b[39mlinalg\u001b[39;00m \u001b[39mimport\u001b[39;00m inv\n",
      "File \u001b[1;32m~\\AppData\\Local\\Packages\\PythonSoftwareFoundation.Python.3.9_qbz5n2kfra8p0\\LocalCache\\local-packages\\Python39\\site-packages\\linalg\\__init__.py:13\u001b[0m, in \u001b[0;36m<module>\u001b[1;34m\u001b[0m\n\u001b[0;32m     11\u001b[0m \u001b[39mfrom\u001b[39;00m \u001b[39mlinalg\u001b[39;00m \u001b[39mimport\u001b[39;00m sym_decomp\n\u001b[0;32m     12\u001b[0m \u001b[39mfrom\u001b[39;00m \u001b[39mlinalg\u001b[39;00m \u001b[39mimport\u001b[39;00m sympos_decomp\n\u001b[1;32m---> 13\u001b[0m \u001b[39mfrom\u001b[39;00m \u001b[39mlinalg\u001b[39;00m \u001b[39mimport\u001b[39;00m qr_decomp\n\u001b[0;32m     15\u001b[0m __all__ \u001b[39m=\u001b[39m [\n\u001b[0;32m     16\u001b[0m     \u001b[39m\"\u001b[39m\u001b[39mdet\u001b[39m\u001b[39m\"\u001b[39m,\n\u001b[0;32m     17\u001b[0m     \u001b[39m\"\u001b[39m\u001b[39minv\u001b[39m\u001b[39m\"\u001b[39m,\n\u001b[1;32m   (...)\u001b[0m\n\u001b[0;32m     29\u001b[0m     \u001b[39m\"\u001b[39m\u001b[39mqr_decomp\u001b[39m\u001b[39m\"\u001b[39m\n\u001b[0;32m     30\u001b[0m ]\n",
      "File \u001b[1;32m~\\AppData\\Local\\Packages\\PythonSoftwareFoundation.Python.3.9_qbz5n2kfra8p0\\LocalCache\\local-packages\\Python39\\site-packages\\linalg\\qr_decomp\\__init__.py:3\u001b[0m, in \u001b[0;36m<module>\u001b[1;34m\u001b[0m\n\u001b[0;32m      1\u001b[0m \u001b[39mfrom\u001b[39;00m \u001b[39mlinalg\u001b[39;00m\u001b[39m.\u001b[39;00m\u001b[39mqr_decomp\u001b[39;00m\u001b[39m.\u001b[39;00m\u001b[39mqr_givens\u001b[39;00m \u001b[39mimport\u001b[39;00m qr_givens\n\u001b[0;32m      2\u001b[0m \u001b[39mfrom\u001b[39;00m \u001b[39mlinalg\u001b[39;00m\u001b[39m.\u001b[39;00m\u001b[39mqr_decomp\u001b[39;00m\u001b[39m.\u001b[39;00m\u001b[39mqr_house\u001b[39;00m \u001b[39mimport\u001b[39;00m qr_house\n\u001b[1;32m----> 3\u001b[0m \u001b[39mfrom\u001b[39;00m \u001b[39mlinalg\u001b[39;00m\u001b[39m.\u001b[39;00m\u001b[39mqr_decomp\u001b[39;00m\u001b[39m.\u001b[39;00m\u001b[39mqr_gram\u001b[39;00m \u001b[39mimport\u001b[39;00m qr_gram\n\u001b[0;32m      5\u001b[0m __all__ \u001b[39m=\u001b[39m [\n\u001b[0;32m      6\u001b[0m     \u001b[39m\"\u001b[39m\u001b[39mqr_givens\u001b[39m\u001b[39m\"\u001b[39m,\n\u001b[0;32m      7\u001b[0m     \u001b[39m\"\u001b[39m\u001b[39mqr_house\u001b[39m\u001b[39m\"\u001b[39m,\n\u001b[0;32m      8\u001b[0m     \u001b[39m\"\u001b[39m\u001b[39mqr_gram\u001b[39m\u001b[39m\"\u001b[39m\n\u001b[0;32m      9\u001b[0m ]\n",
      "File \u001b[1;32m~\\AppData\\Local\\Packages\\PythonSoftwareFoundation.Python.3.9_qbz5n2kfra8p0\\LocalCache\\local-packages\\Python39\\site-packages\\linalg\\qr_decomp\\qr_gram.py:6\u001b[0m, in \u001b[0;36m<module>\u001b[1;34m\u001b[0m\n\u001b[0;32m      3\u001b[0m \u001b[39mfrom\u001b[39;00m \u001b[39mtyping\u001b[39;00m \u001b[39mimport\u001b[39;00m Tuple\n\u001b[0;32m      5\u001b[0m \u001b[39mfrom\u001b[39;00m \u001b[39m.\u001b[39;00m\u001b[39m.\u001b[39;00m\u001b[39mutils\u001b[39;00m\u001b[39m.\u001b[39;00m\u001b[39m_validations\u001b[39;00m \u001b[39mimport\u001b[39;00m _ensure_ndarray\n\u001b[1;32m----> 6\u001b[0m \u001b[39mfrom\u001b[39;00m \u001b[39m.\u001b[39;00m\u001b[39m.\u001b[39;00m\u001b[39mutils\u001b[39;00m\u001b[39m.\u001b[39;00m\u001b[39mnorm\u001b[39;00m \u001b[39mimport\u001b[39;00m norm\n\u001b[0;32m      8\u001b[0m \u001b[39mdef\u001b[39;00m \u001b[39mqr_gram\u001b[39m(\n\u001b[0;32m      9\u001b[0m     a: ArrayLike,\n\u001b[0;32m     10\u001b[0m     overwrite_a: \u001b[39mbool\u001b[39m \u001b[39m=\u001b[39m \u001b[39mFalse\u001b[39;00m\n\u001b[0;32m     11\u001b[0m ) \u001b[39m-\u001b[39m\u001b[39m>\u001b[39m Tuple[np\u001b[39m.\u001b[39mndarray, np\u001b[39m.\u001b[39mndarray]:\n\u001b[0;32m     12\u001b[0m     \u001b[39m\"\"\"\u001b[39;00m\n\u001b[0;32m     13\u001b[0m \u001b[39m    Get QR decomposition of rectangular matrix A (``A = QR``),\u001b[39;00m\n\u001b[0;32m     14\u001b[0m \u001b[39m    where Q is an orthonormal and R is an upper triangular.\u001b[39;00m\n\u001b[1;32m   (...)\u001b[0m\n\u001b[0;32m     29\u001b[0m \u001b[39m        R matrix in economic form\u001b[39;00m\n\u001b[0;32m     30\u001b[0m \u001b[39m    \"\"\"\u001b[39;00m\n",
      "File \u001b[1;32m~\\AppData\\Local\\Packages\\PythonSoftwareFoundation.Python.3.9_qbz5n2kfra8p0\\LocalCache\\local-packages\\Python39\\site-packages\\linalg\\utils\\norm.py:7\u001b[0m, in \u001b[0;36m<module>\u001b[1;34m\u001b[0m\n\u001b[0;32m      3\u001b[0m \u001b[39mfrom\u001b[39;00m \u001b[39mnumpy\u001b[39;00m\u001b[39m.\u001b[39;00m\u001b[39mctypeslib\u001b[39;00m \u001b[39mimport\u001b[39;00m ndpointer\n\u001b[0;32m      5\u001b[0m \u001b[39mfrom\u001b[39;00m \u001b[39m.\u001b[39;00m\u001b[39m_validations\u001b[39;00m \u001b[39mimport\u001b[39;00m _ensure_ndarray\n\u001b[1;32m----> 7\u001b[0m lib \u001b[39m=\u001b[39m ctypes\u001b[39m.\u001b[39;49mcdll\u001b[39m.\u001b[39;49mLoadLibrary(\u001b[39m\"\u001b[39;49m\u001b[39mlinalg/utils/norm_src/norm.dll\u001b[39;49m\u001b[39m\"\u001b[39;49m)\n\u001b[0;32m      8\u001b[0m c_norm \u001b[39m=\u001b[39m lib\u001b[39m.\u001b[39mnorm\n\u001b[0;32m      9\u001b[0m c_norm\u001b[39m.\u001b[39mrestype \u001b[39m=\u001b[39m ctypes\u001b[39m.\u001b[39mc_double\n",
      "File \u001b[1;32mC:\\Program Files\\WindowsApps\\PythonSoftwareFoundation.Python.3.9_3.9.3568.0_x64__qbz5n2kfra8p0\\lib\\ctypes\\__init__.py:452\u001b[0m, in \u001b[0;36mLibraryLoader.LoadLibrary\u001b[1;34m(self, name)\u001b[0m\n\u001b[0;32m    451\u001b[0m \u001b[39mdef\u001b[39;00m \u001b[39mLoadLibrary\u001b[39m(\u001b[39mself\u001b[39m, name):\n\u001b[1;32m--> 452\u001b[0m     \u001b[39mreturn\u001b[39;00m \u001b[39mself\u001b[39;49m\u001b[39m.\u001b[39;49m_dlltype(name)\n",
      "File \u001b[1;32mC:\\Program Files\\WindowsApps\\PythonSoftwareFoundation.Python.3.9_3.9.3568.0_x64__qbz5n2kfra8p0\\lib\\ctypes\\__init__.py:374\u001b[0m, in \u001b[0;36mCDLL.__init__\u001b[1;34m(self, name, mode, handle, use_errno, use_last_error, winmode)\u001b[0m\n\u001b[0;32m    371\u001b[0m \u001b[39mself\u001b[39m\u001b[39m.\u001b[39m_FuncPtr \u001b[39m=\u001b[39m _FuncPtr\n\u001b[0;32m    373\u001b[0m \u001b[39mif\u001b[39;00m handle \u001b[39mis\u001b[39;00m \u001b[39mNone\u001b[39;00m:\n\u001b[1;32m--> 374\u001b[0m     \u001b[39mself\u001b[39m\u001b[39m.\u001b[39m_handle \u001b[39m=\u001b[39m _dlopen(\u001b[39mself\u001b[39;49m\u001b[39m.\u001b[39;49m_name, mode)\n\u001b[0;32m    375\u001b[0m \u001b[39melse\u001b[39;00m:\n\u001b[0;32m    376\u001b[0m     \u001b[39mself\u001b[39m\u001b[39m.\u001b[39m_handle \u001b[39m=\u001b[39m handle\n",
      "\u001b[1;31mFileNotFoundError\u001b[0m: Could not find module 'c:\\Users\\Max\\Projects\\linalg\\tests\\linalg\\utils\\norm_src\\norm.dll' (or one of its dependencies). Try using the full path with constructor syntax."
     ]
    }
   ],
   "source": [
    "import numpy as np\n",
    "\n",
    "import os, psutil\n",
    "\n",
    "from linalg.elim import solve_elim\n",
    "from linalg.elim import determinant\n",
    "from linalg.elim import inverse\n",
    "from linalg import solve\n",
    "from linalg import det\n",
    "from linalg import inv\n",
    "from linalg.lu import lu_band_solve\n",
    "from linalg import solve_band, solves_band\n",
    "from linalg.qr_decomp import qr_givens, qr_house, qr_gram"
   ]
  },
  {
   "cell_type": "markdown",
   "metadata": {},
   "source": [
    "A is a SPD matrix due to $x^TA^TAx = (Ax)^T(Ax) = ||Ax||$ > 0 for each $b \\not = 0$"
   ]
  },
  {
   "cell_type": "code",
   "execution_count": 2,
   "metadata": {},
   "outputs": [],
   "source": [
    "np.random.seed(0)\n",
    "N = 1000\n",
    "a = np.random.rand(N, N)\n",
    "b = np.arange(N)\n",
    "a = np.dot(a.T, a)"
   ]
  },
  {
   "cell_type": "code",
   "execution_count": 3,
   "metadata": {},
   "outputs": [
    {
     "name": "stdout",
     "output_type": "stream",
     "text": [
      "CPU times: total: 3.31 s\n",
      "Wall time: 3.33 s\n"
     ]
    },
    {
     "name": "stderr",
     "output_type": "stream",
     "text": [
      "C:\\Users\\Max\\AppData\\Local\\Packages\\PythonSoftwareFoundation.Python.3.9_qbz5n2kfra8p0\\LocalCache\\local-packages\\Python39\\site-packages\\numpy\\core\\fromnumeric.py:86: RuntimeWarning: overflow encountered in reduce\n",
      "  return ufunc.reduce(obj, axis, dtype, out, **passkwargs)\n"
     ]
    }
   ],
   "source": [
    "%%time\n",
    "_ = determinant(a)"
   ]
  },
  {
   "cell_type": "code",
   "execution_count": 4,
   "metadata": {},
   "outputs": [
    {
     "name": "stdout",
     "output_type": "stream",
     "text": [
      "CPU times: total: 1.22 s\n",
      "Wall time: 1.22 s\n"
     ]
    }
   ],
   "source": [
    "%%time\n",
    "_ = det(a)"
   ]
  },
  {
   "cell_type": "code",
   "execution_count": 5,
   "metadata": {},
   "outputs": [
    {
     "name": "stdout",
     "output_type": "stream",
     "text": [
      "CPU times: total: 5.61 s\n",
      "Wall time: 5.34 s\n"
     ]
    }
   ],
   "source": [
    "%%time\n",
    "_ = inverse(a)"
   ]
  },
  {
   "cell_type": "code",
   "execution_count": 6,
   "metadata": {},
   "outputs": [
    {
     "name": "stdout",
     "output_type": "stream",
     "text": [
      "CPU times: total: 1.84 s\n",
      "Wall time: 1.34 s\n"
     ]
    }
   ],
   "source": [
    "%%time\n",
    "_ = inv(a)"
   ]
  },
  {
   "cell_type": "code",
   "execution_count": 7,
   "metadata": {},
   "outputs": [
    {
     "name": "stdout",
     "output_type": "stream",
     "text": [
      "CPU times: total: 2.3 s\n",
      "Wall time: 2.3 s\n"
     ]
    }
   ],
   "source": [
    "%%time\n",
    "x1 = solve_elim(a, b)"
   ]
  },
  {
   "cell_type": "code",
   "execution_count": 8,
   "metadata": {},
   "outputs": [
    {
     "name": "stdout",
     "output_type": "stream",
     "text": [
      "CPU times: total: 1.17 s\n",
      "Wall time: 1.17 s\n"
     ]
    }
   ],
   "source": [
    "%%time\n",
    "x2 = solve(a, b, assume_a=\"gen\")"
   ]
  },
  {
   "cell_type": "code",
   "execution_count": 9,
   "metadata": {},
   "outputs": [
    {
     "name": "stdout",
     "output_type": "stream",
     "text": [
      "CPU times: total: 750 ms\n",
      "Wall time: 641 ms\n"
     ]
    }
   ],
   "source": [
    "%%time\n",
    "x3 = solve(a, b, assume_a=\"sym\")"
   ]
  },
  {
   "cell_type": "code",
   "execution_count": 10,
   "metadata": {},
   "outputs": [
    {
     "name": "stdout",
     "output_type": "stream",
     "text": [
      "CPU times: total: 469 ms\n",
      "Wall time: 417 ms\n"
     ]
    }
   ],
   "source": [
    "%%time\n",
    "x4 = solve(a, b, assume_a=\"pos\")"
   ]
  },
  {
   "cell_type": "code",
   "execution_count": 11,
   "metadata": {},
   "outputs": [],
   "source": [
    "# set `atol` due to unstable summation\n",
    "assert np.allclose(b, a @ x1, atol=1e-4)\n",
    "assert np.allclose(b, a @ x2, atol=1e-4)\n",
    "assert np.allclose(b, a @ x3, atol=1e-4)\n",
    "assert np.allclose(b, a @ x4, atol=1e-4)"
   ]
  },
  {
   "cell_type": "code",
   "execution_count": 12,
   "metadata": {},
   "outputs": [],
   "source": [
    "a_band = np.zeros_like(a)\n",
    "diags = [-2, -1, 0, 1, 2]\n",
    "for diag in diags:\n",
    "    a_band += np.diag(np.diag(a, k=diag), k=diag)"
   ]
  },
  {
   "cell_type": "code",
   "execution_count": 13,
   "metadata": {},
   "outputs": [
    {
     "name": "stdout",
     "output_type": "stream",
     "text": [
      "CPU times: total: 46.9 ms\n",
      "Wall time: 40 ms\n"
     ]
    }
   ],
   "source": [
    "%%time\n",
    "x_b1 = solve_band(a_band, 2, 2, b)"
   ]
  },
  {
   "cell_type": "code",
   "execution_count": 14,
   "metadata": {},
   "outputs": [
    {
     "name": "stdout",
     "output_type": "stream",
     "text": [
      "CPU times: total: 31.2 ms\n",
      "Wall time: 37 ms\n"
     ]
    }
   ],
   "source": [
    "%%time\n",
    "x_b2 = solves_band(a_band, 2, b)"
   ]
  },
  {
   "cell_type": "code",
   "execution_count": 15,
   "metadata": {},
   "outputs": [],
   "source": [
    "assert np.allclose(b, a_band @ x_b1, atol=1e-4)\n",
    "assert np.allclose(b, a_band @ x_b2, atol=1e-4)"
   ]
  },
  {
   "cell_type": "code",
   "execution_count": 6,
   "metadata": {},
   "outputs": [],
   "source": [
    "M = 1000\n",
    "N = 500\n",
    "a = np.random.standard_normal((M, N))"
   ]
  },
  {
   "cell_type": "code",
   "execution_count": 7,
   "metadata": {},
   "outputs": [
    {
     "name": "stdout",
     "output_type": "stream",
     "text": [
      "CPU times: total: 10.7 s\n",
      "Wall time: 10.7 s\n"
     ]
    }
   ],
   "source": [
    "%%time\n",
    "q_g, r_g = qr_givens(a)"
   ]
  },
  {
   "cell_type": "code",
   "execution_count": 8,
   "metadata": {},
   "outputs": [
    {
     "name": "stdout",
     "output_type": "stream",
     "text": [
      "CPU times: total: 46.8 s\n",
      "Wall time: 13.1 s\n"
     ]
    }
   ],
   "source": [
    "%%time\n",
    "q_h, r_h = qr_house(a)"
   ]
  },
  {
   "cell_type": "code",
   "execution_count": 9,
   "metadata": {},
   "outputs": [],
   "source": [
    "assert np.allclose(a, q_g @ r_g)\n",
    "assert np.allclose(a, q_h @ r_h)"
   ]
  },
  {
   "cell_type": "code",
   "execution_count": 10,
   "metadata": {},
   "outputs": [
    {
     "name": "stdout",
     "output_type": "stream",
     "text": [
      "CPU times: total: 4.17 s\n",
      "Wall time: 4.17 s\n"
     ]
    }
   ],
   "source": [
    "%%time\n",
    "r_g = qr_givens(a, mode=\"r\")"
   ]
  },
  {
   "cell_type": "code",
   "execution_count": 11,
   "metadata": {},
   "outputs": [
    {
     "name": "stdout",
     "output_type": "stream",
     "text": [
      "CPU times: total: 4.17 s\n",
      "Wall time: 4.18 s\n"
     ]
    }
   ],
   "source": [
    "%%time\n",
    "r_h = qr_givens(a, mode=\"r\")"
   ]
  },
  {
   "cell_type": "code",
   "execution_count": 1,
   "metadata": {},
   "outputs": [
    {
     "ename": "NameError",
     "evalue": "name 'np' is not defined",
     "output_type": "error",
     "traceback": [
      "\u001b[1;31m---------------------------------------------------------------------------\u001b[0m",
      "\u001b[1;31mNameError\u001b[0m                                 Traceback (most recent call last)",
      "\u001b[1;32mc:\\Users\\Max\\Projects\\linalg\\tests\\speed_test.ipynb Ячейка 23\u001b[0m in \u001b[0;36m<cell line: 1>\u001b[1;34m()\u001b[0m\n\u001b[1;32m----> <a href='vscode-notebook-cell:/c%3A/Users/Max/Projects/linalg/tests/speed_test.ipynb#X31sZmlsZQ%3D%3D?line=0'>1</a>\u001b[0m a \u001b[39m=\u001b[39m np\u001b[39m.\u001b[39marray([\n\u001b[0;32m      <a href='vscode-notebook-cell:/c%3A/Users/Max/Projects/linalg/tests/speed_test.ipynb#X31sZmlsZQ%3D%3D?line=1'>2</a>\u001b[0m     [\u001b[39m12\u001b[39m, \u001b[39m-\u001b[39m\u001b[39m51\u001b[39m, \u001b[39m4\u001b[39m],\n\u001b[0;32m      <a href='vscode-notebook-cell:/c%3A/Users/Max/Projects/linalg/tests/speed_test.ipynb#X31sZmlsZQ%3D%3D?line=2'>3</a>\u001b[0m     [\u001b[39m6\u001b[39m, \u001b[39m167\u001b[39m, \u001b[39m-\u001b[39m\u001b[39m68\u001b[39m],\n\u001b[0;32m      <a href='vscode-notebook-cell:/c%3A/Users/Max/Projects/linalg/tests/speed_test.ipynb#X31sZmlsZQ%3D%3D?line=3'>4</a>\u001b[0m     [\u001b[39m-\u001b[39m\u001b[39m4\u001b[39m, \u001b[39m24\u001b[39m, \u001b[39m-\u001b[39m\u001b[39m41\u001b[39m],\n\u001b[0;32m      <a href='vscode-notebook-cell:/c%3A/Users/Max/Projects/linalg/tests/speed_test.ipynb#X31sZmlsZQ%3D%3D?line=4'>5</a>\u001b[0m     [\u001b[39m1\u001b[39m, \u001b[39m2\u001b[39m, \u001b[39m3\u001b[39m]\n\u001b[0;32m      <a href='vscode-notebook-cell:/c%3A/Users/Max/Projects/linalg/tests/speed_test.ipynb#X31sZmlsZQ%3D%3D?line=5'>6</a>\u001b[0m ])\n\u001b[0;32m      <a href='vscode-notebook-cell:/c%3A/Users/Max/Projects/linalg/tests/speed_test.ipynb#X31sZmlsZQ%3D%3D?line=6'>7</a>\u001b[0m b \u001b[39m=\u001b[39m np\u001b[39m.\u001b[39marray([\n\u001b[0;32m      <a href='vscode-notebook-cell:/c%3A/Users/Max/Projects/linalg/tests/speed_test.ipynb#X31sZmlsZQ%3D%3D?line=7'>8</a>\u001b[0m     [\u001b[39m1\u001b[39m, \u001b[39m2\u001b[39m, \u001b[39m3\u001b[39m],\n\u001b[0;32m      <a href='vscode-notebook-cell:/c%3A/Users/Max/Projects/linalg/tests/speed_test.ipynb#X31sZmlsZQ%3D%3D?line=8'>9</a>\u001b[0m     [\u001b[39m4\u001b[39m, \u001b[39m5\u001b[39m, \u001b[39m6\u001b[39m],\n\u001b[0;32m     <a href='vscode-notebook-cell:/c%3A/Users/Max/Projects/linalg/tests/speed_test.ipynb#X31sZmlsZQ%3D%3D?line=9'>10</a>\u001b[0m     [\u001b[39m7\u001b[39m, \u001b[39m8\u001b[39m, \u001b[39m9\u001b[39m]\n\u001b[0;32m     <a href='vscode-notebook-cell:/c%3A/Users/Max/Projects/linalg/tests/speed_test.ipynb#X31sZmlsZQ%3D%3D?line=10'>11</a>\u001b[0m ])\n\u001b[0;32m     <a href='vscode-notebook-cell:/c%3A/Users/Max/Projects/linalg/tests/speed_test.ipynb#X31sZmlsZQ%3D%3D?line=12'>13</a>\u001b[0m a[:, \u001b[39m0\u001b[39m, np\u001b[39m.\u001b[39mnewaxis] \u001b[39m*\u001b[39m b[np\u001b[39m.\u001b[39mnewaxis, \u001b[39m0\u001b[39m, \u001b[39m1\u001b[39m:]\n",
      "\u001b[1;31mNameError\u001b[0m: name 'np' is not defined"
     ]
    }
   ],
   "source": [
    "a = np.array([\n",
    "    [12, -51, 4],\n",
    "    [6, 167, -68],\n",
    "    [-4, 24, -41],\n",
    "    [1, 2, 3]\n",
    "])\n",
    "b = np.array([\n",
    "    [1, 2, 3],\n",
    "    [4, 5, 6],\n",
    "    [7, 8, 9]\n",
    "])\n",
    "\n",
    "a[:, 0, np.newaxis] * b[np.newaxis, 0, 1:]\n",
    "a.flags"
   ]
  }
 ],
 "metadata": {
  "kernelspec": {
   "display_name": "Python 3.9.13 64-bit (windows store)",
   "language": "python",
   "name": "python3"
  },
  "language_info": {
   "codemirror_mode": {
    "name": "ipython",
    "version": 3
   },
   "file_extension": ".py",
   "mimetype": "text/x-python",
   "name": "python",
   "nbconvert_exporter": "python",
   "pygments_lexer": "ipython3",
   "version": "3.9.13"
  },
  "orig_nbformat": 4,
  "vscode": {
   "interpreter": {
    "hash": "95dd61b13f10bb20b6a592d81f040947c60fe0cc39a2d096a18f3d028a648f1c"
   }
  }
 },
 "nbformat": 4,
 "nbformat_minor": 2
}
